{
 "cells": [
  {
   "cell_type": "code",
   "execution_count": 1,
   "id": "1a4f451b",
   "metadata": {},
   "outputs": [],
   "source": [
    "#import libraries\n",
    "import pandas as pd\n",
    "import numpy as np\n",
    "import os"
   ]
  },
  {
   "cell_type": "code",
   "execution_count": 14,
   "id": "35d56512",
   "metadata": {},
   "outputs": [
    {
     "name": "stdout",
     "output_type": "stream",
     "text": [
      "100\n"
     ]
    }
   ],
   "source": [
    "#python datatypes\n",
    "x=50\n",
    "y=50\n",
    "print(x+y)"
   ]
  },
  {
   "cell_type": "code",
   "execution_count": 15,
   "id": "c15d8a6e",
   "metadata": {},
   "outputs": [
    {
     "name": "stdout",
     "output_type": "stream",
     "text": [
      "100\n"
     ]
    }
   ],
   "source": [
    "print(x*2)"
   ]
  },
  {
   "cell_type": "code",
   "execution_count": 16,
   "id": "b37aef6e",
   "metadata": {},
   "outputs": [
    {
     "name": "stdout",
     "output_type": "stream",
     "text": [
      "100\n"
     ]
    }
   ],
   "source": [
    "print(150-y)"
   ]
  },
  {
   "cell_type": "code",
   "execution_count": 17,
   "id": "8261e88e",
   "metadata": {},
   "outputs": [
    {
     "name": "stdout",
     "output_type": "stream",
     "text": [
      "2.894308943089431\n"
     ]
    }
   ],
   "source": [
    "a=3.56\n",
    "b=1.23\n",
    "print(a/b)"
   ]
  },
  {
   "cell_type": "code",
   "execution_count": 19,
   "id": "7d7c2ffa",
   "metadata": {},
   "outputs": [
    {
     "data": {
      "text/plain": [
       "'Hello world'"
      ]
     },
     "execution_count": 19,
     "metadata": {},
     "output_type": "execute_result"
    }
   ],
   "source": [
    "a='Hello '\n",
    "b='world'\n",
    "a+b"
   ]
  },
  {
   "cell_type": "code",
   "execution_count": 20,
   "id": "450ac372",
   "metadata": {},
   "outputs": [
    {
     "data": {
      "text/plain": [
       "'Learning python is fun'"
      ]
     },
     "execution_count": 20,
     "metadata": {},
     "output_type": "execute_result"
    }
   ],
   "source": [
    "a = 'Learning python '\n",
    "b = 'is fun'\n",
    "a+b"
   ]
  },
  {
   "cell_type": "code",
   "execution_count": 21,
   "id": "0285f0ab",
   "metadata": {},
   "outputs": [
    {
     "data": {
      "text/plain": [
       "'Learning python is funLearning python is funLearning python is funLearning python is funLearning python is funLearning python is funLearning python is funLearning python is funLearning python is funLearning python is funLearning python is funLearning python is funLearning python is funLearning python is funLearning python is funLearning python is funLearning python is funLearning python is funLearning python is funLearning python is funLearning python is funLearning python is funLearning python is funLearning python is funLearning python is funLearning python is funLearning python is funLearning python is funLearning python is funLearning python is funLearning python is funLearning python is funLearning python is funLearning python is funLearning python is funLearning python is funLearning python is funLearning python is funLearning python is funLearning python is funLearning python is funLearning python is funLearning python is funLearning python is funLearning python is funLearning python is funLearning python is funLearning python is funLearning python is funLearning python is funLearning python is funLearning python is funLearning python is funLearning python is funLearning python is funLearning python is funLearning python is funLearning python is funLearning python is funLearning python is funLearning python is funLearning python is funLearning python is funLearning python is funLearning python is funLearning python is funLearning python is funLearning python is funLearning python is funLearning python is funLearning python is funLearning python is funLearning python is funLearning python is funLearning python is funLearning python is funLearning python is funLearning python is funLearning python is funLearning python is funLearning python is funLearning python is funLearning python is funLearning python is funLearning python is funLearning python is funLearning python is funLearning python is funLearning python is funLearning python is funLearning python is funLearning python is funLearning python is funLearning python is funLearning python is funLearning python is funLearning python is funLearning python is funLearning python is funLearning python is fun'"
      ]
     },
     "execution_count": 21,
     "metadata": {},
     "output_type": "execute_result"
    }
   ],
   "source": [
    "(a+b)*100"
   ]
  },
  {
   "cell_type": "code",
   "execution_count": null,
   "id": "b2ebb28e",
   "metadata": {},
   "outputs": [],
   "source": []
  }
 ],
 "metadata": {
  "kernelspec": {
   "display_name": "Python 3 (ipykernel)",
   "language": "python",
   "name": "python3"
  },
  "language_info": {
   "codemirror_mode": {
    "name": "ipython",
    "version": 3
   },
   "file_extension": ".py",
   "mimetype": "text/x-python",
   "name": "python",
   "nbconvert_exporter": "python",
   "pygments_lexer": "ipython3",
   "version": "3.11.5"
  }
 },
 "nbformat": 4,
 "nbformat_minor": 5
}
